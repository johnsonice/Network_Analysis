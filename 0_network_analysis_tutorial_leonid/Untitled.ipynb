{
 "cells": [
  {
   "cell_type": "code",
   "execution_count": 3,
   "metadata": {
    "collapsed": false
   },
   "outputs": [],
   "source": [
    "#!/usr/bin/env python\n",
    "import networkx as nx\n",
    "import math\n",
    "import csv\n",
    "import random as rand\n",
    "import sys\n",
    "\n",
    "_DEBUG_ = False\n",
    "\n",
    "#this method just reads the graph structure from the file\n",
    "def buildG(G, file_, delimiter_):\n",
    "    #construct the weighted version of the contact graph from cgraph.dat file\n",
    "    #reader = csv.reader(open(\"/home/kazem/Data/UCI/karate.txt\"), delimiter=\" \")\n",
    "    reader = csv.reader(open(file_), delimiter=delimiter_)\n",
    "    for line in reader:\n",
    "        if len(line) > 2:\n",
    "            if float(line[2]) != 0.0:\n",
    "                #line format: u,v,w\n",
    "                G.add_edge(int(line[0]),int(line[1]),weight=float(line[2]))\n",
    "        else:\n",
    "            #line format: u,v\n",
    "            G.add_edge(int(line[0]),int(line[1]),weight=1.0)"
   ]
  },
  {
   "cell_type": "code",
   "execution_count": null,
   "metadata": {
    "collapsed": true
   },
   "outputs": [],
   "source": [
    "#keep removing edges from Graph until one of the connected components of Graph splits into two\n",
    "#compute the edge betweenness\n",
    "def CmtyGirvanNewmanStep(G):\n",
    "    if _DEBUG_:\n",
    "        print(\"Calling CmtyGirvanNewmanStep\")\n",
    "    init_ncomp = nx.number_connected_components(G)    #no of components, in most cases, everything is connected, so it is one\n",
    "    ncomp = init_ncomp\n",
    "    while ncomp <= init_ncomp:\n",
    "        bw = nx.edge_betweenness_centrality(G, weight='weight')    #edge betweenness for G\n",
    "        #find the edge with max centrality\n",
    "        max_ = max(bw.values())\n",
    "        #find the edge with the highest centrality and remove all of them if there is more than one!\n",
    "        for k, v in bw.items():\n",
    "            if float(v) == max_:\n",
    "                G.remove_edge(k[0],k[1])    #remove the central edge\n",
    "        ncomp = nx.number_connected_components(G)    #recalculate the no of components\n"
   ]
  },
  {
   "cell_type": "code",
   "execution_count": null,
   "metadata": {
    "collapsed": true
   },
   "outputs": [],
   "source": [
    "#compute the modularity of current split\n",
    "def _GirvanNewmanGetModularity(G, deg_, m_):\n",
    "    New_A = nx.adj_matrix(G)\n",
    "    New_deg = {}\n",
    "    New_deg = UpdateDeg(New_A, G.nodes())\n",
    "    #Let's compute the Q\n",
    "    comps = nx.connected_components(G)    #list of components    \n",
    "    print('No of communities in decomposed G: %d' % nx.number_connected_components(G))\n",
    "    Mod = 0    #Modularity of a given partitionning\n",
    "    for c in comps:\n",
    "        EWC = 0    #no of edges within a community\n",
    "        RE = 0    #no of random edges\n",
    "        for u in c:\n",
    "            EWC += New_deg[u]\n",
    "            RE += deg_[u]        #count the probability of a random edge\n",
    "        Mod += ( float(EWC) - float(RE*RE)/float(2*m_) )\n",
    "    Mod = Mod/float(2*m_)\n",
    "    if _DEBUG_:\n",
    "        print \"Modularity: %f\" % Mod\n",
    "    return Mod\n",
    "\n",
    "def UpdateDeg(A, nodes):\n",
    "    deg_dict = {}\n",
    "    n = len(nodes)  #len(A) ---> some ppl get issues when trying len() on sparse matrixes!\n",
    "    B = A.sum(axis = 1)\n",
    "    for i in range(n):\n",
    "        deg_dict[nodes[i]] = B[i, 0]\n",
    "    return deg_dict\n"
   ]
  },
  {
   "cell_type": "code",
   "execution_count": null,
   "metadata": {
    "collapsed": true
   },
   "outputs": [],
   "source": [
    "#run GirvanNewman algorithm and find the best community split by maximizing modularity measure\n",
    "def runGirvanNewman(G, Orig_deg, m_):\n",
    "    #let's find the best split of the graph\n",
    "    BestQ = 0.0\n",
    "    Q = 0.0\n",
    "    while True:    \n",
    "        CmtyGirvanNewmanStep(G)\n",
    "        Q = _GirvanNewmanGetModularity(G, Orig_deg, m_);\n",
    "        print \"Modularity of decomposed G: %f\" % Q\n",
    "        if Q > BestQ:\n",
    "            BestQ = Q\n",
    "            Bestcomps = nx.connected_components(G)    #Best Split\n",
    "            print \"Components:\", Bestcomps\n",
    "        if G.number_of_edges() == 0:\n",
    "            break\n",
    "    if BestQ > 0.0:\n",
    "        print \"Max modularity (Q): %f\" % BestQ\n",
    "        print \"Graph communities:\", Bestcomps\n",
    "    else:\n",
    "        print \"Max modularity (Q): %f\" % BestQ"
   ]
  },
  {
   "cell_type": "code",
   "execution_count": null,
   "metadata": {
    "collapsed": true
   },
   "outputs": [],
   "source": [
    "def main(argv):\n",
    "    if len(argv) < 2:\n",
    "        sys.stderr.write(\"Usage: %s <input graph>\\n\" % (argv[0],))\n",
    "        return 1\n",
    "    graph_fn = argv[1]\n",
    "    G = nx.Graph()  #let's create the graph first\n",
    "    buildG(G, graph_fn, ',')\n",
    "    \n",
    "    if _DEBUG_:\n",
    "        print 'G nodes:', G.nodes()\n",
    "        print 'G no of nodes:', G.number_of_nodes()\n",
    "    \n",
    "    n = G.number_of_nodes()    #|V|\n",
    "    A = nx.adj_matrix(G)    #adjacenct matrix\n",
    "\n",
    "    m_ = 0.0    #the weighted version for number of edges\n",
    "    for i in range(0,n):\n",
    "        for j in range(0,n):\n",
    "            m_ += A[i,j]\n",
    "    m_ = m_/2.0\n",
    "    if _DEBUG_:\n",
    "        print \"m: %f\" % m_\n",
    "\n",
    "    #calculate the weighted degree for each node\n",
    "    Orig_deg = {}\n",
    "    Orig_deg = UpdateDeg(A, G.nodes())\n",
    "\n",
    "    #run Newman alg\n",
    "    runGirvanNewman(G, Orig_deg, m_)\n",
    "\n",
    "if __name__ == \"__main__\":\n",
    "    sys.exit(main(sys.argv))"
   ]
  }
 ],
 "metadata": {
  "kernelspec": {
   "display_name": "Python [default]",
   "language": "python",
   "name": "python3"
  },
  "language_info": {
   "codemirror_mode": {
    "name": "ipython",
    "version": 3
   },
   "file_extension": ".py",
   "mimetype": "text/x-python",
   "name": "python",
   "nbconvert_exporter": "python",
   "pygments_lexer": "ipython3",
   "version": "3.5.2"
  }
 },
 "nbformat": 4,
 "nbformat_minor": 2
}
