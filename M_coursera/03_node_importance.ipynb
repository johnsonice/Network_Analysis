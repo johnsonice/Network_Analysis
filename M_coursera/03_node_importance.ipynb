{
 "cells": [
  {
   "cell_type": "markdown",
   "metadata": {},
   "source": [
    "## Network Centrality Measures"
   ]
  },
  {
   "cell_type": "markdown",
   "metadata": {},
   "source": [
    "### Degree Centrality"
   ]
  },
  {
   "cell_type": "markdown",
   "metadata": {},
   "source": [
    "- Assumption: important nodes have many connections.\n",
    "- The most basic measure of centrality: number of neighbors.\n",
    "- Undirected networks: use degree Directed networks: use in-degree or out-degree"
   ]
  },
  {
   "cell_type": "code",
   "execution_count": 25,
   "metadata": {},
   "outputs": [],
   "source": [
    "import networkx as nx\n",
    "import matplotlib.pyplot as plt\n",
    "import numpy as np\n",
    "import pandas as pd\n",
    "import operator\n",
    "%matplotlib inline\n",
    "from pylab import rcParams\n",
    "rcParams['figure.figsize'] = 8, 5"
   ]
  },
  {
   "cell_type": "code",
   "execution_count": 2,
   "metadata": {},
   "outputs": [],
   "source": [
    "G = nx.karate_club_graph()"
   ]
  },
  {
   "cell_type": "code",
   "execution_count": 3,
   "metadata": {},
   "outputs": [
    {
     "name": "stdout",
     "output_type": "stream",
     "text": [
      "Degree Centrality for every node: \n",
      "\n",
      "0.36363636363636365\n"
     ]
    }
   ],
   "source": [
    "degCent = nx.degree_centrality(G)\n",
    "print('Degree Centrality for every node: \\n')\n",
    "print(degCent[32])"
   ]
  },
  {
   "cell_type": "markdown",
   "metadata": {},
   "source": [
    "- for directed graph, you can use in_degree or out_degree \n",
    "\n",
    "```indegCent = nx.in_degree_centrality(G)```"
   ]
  },
  {
   "cell_type": "markdown",
   "metadata": {},
   "source": [
    "### Closeness Centrality\n",
    "- Assumption: important nodes are close to other nodes."
   ]
  },
  {
   "cell_type": "code",
   "execution_count": 4,
   "metadata": {},
   "outputs": [
    {
     "data": {
      "text/plain": [
       "0.515625"
      ]
     },
     "execution_count": 4,
     "metadata": {},
     "output_type": "execute_result"
    }
   ],
   "source": [
    "closeCent = nx.closeness_centrality(G) ## return a dictionary\n",
    "closeCent[32]"
   ]
  },
  {
   "cell_type": "code",
   "execution_count": 5,
   "metadata": {},
   "outputs": [
    {
     "data": {
      "text/plain": [
       "0.515625"
      ]
     },
     "execution_count": 5,
     "metadata": {},
     "output_type": "execute_result"
    }
   ],
   "source": [
    "## the exact calculation \n",
    "(len(G.nodes())-1)/sum(nx.shortest_path_length(G,32).values())"
   ]
  },
  {
   "cell_type": "markdown",
   "metadata": {},
   "source": [
    "### Betweeness Centrality\n",
    "- Assumption: important nodes connect other nodes."
   ]
  },
  {
   "cell_type": "code",
   "execution_count": 6,
   "metadata": {},
   "outputs": [
    {
     "name": "stdout",
     "output_type": "stream",
     "text": [
      "Normalized between centrality is: {0: 0.43763528138528146, 1: 0.053936688311688304, 2: 0.14365680615680618, 3: 0.011909271284271283, 4: 0.0006313131313131313, 5: 0.02998737373737374, 6: 0.029987373737373736, 7: 0.0, 8: 0.05592682780182781, 9: 0.0008477633477633478, 10: 0.0006313131313131313, 11: 0.0, 12: 0.0, 13: 0.04586339586339586, 14: 0.0, 15: 0.0, 16: 0.0, 17: 0.0, 18: 0.0, 19: 0.03247504810004811, 20: 0.0, 21: 0.0, 22: 0.0, 23: 0.017613636363636363, 24: 0.0022095959595959595, 25: 0.0038404882154882154, 26: 0.0, 27: 0.02233345358345358, 28: 0.0017947330447330447, 29: 0.0029220779220779218, 30: 0.014411976911976909, 31: 0.13827561327561325, 32: 0.145247113997114, 33: 0.30407497594997596}\n"
     ]
    }
   ],
   "source": [
    "## get the normalized or non normalized betweeness centrality \n",
    "btwnCent = nx.betweenness_centrality(G,normalized=True,endpoints=False)\n",
    "print('Normalized between centrality is: {}'.format(btwnCent))"
   ]
  },
  {
   "cell_type": "code",
   "execution_count": 7,
   "metadata": {},
   "outputs": [
    {
     "name": "stdout",
     "output_type": "stream",
     "text": [
      "Normalized between centrality is: {0: 0.395509960718294, 1: 0.04597011784511784, 2: 0.1547737293570627, 3: 0.008010060926727593, 4: 0.0, 5: 0.015025252525252525, 6: 0.01574074074074074, 7: 0.0, 8: 0.04711319544652877, 9: 0.0019215969215969216, 10: 0.0007154882154882154, 11: 0.0, 12: 0.0, 13: 0.0470995670995671, 14: 0.0, 15: 0.0, 16: 0.0, 17: 0.0, 18: 0.0, 19: 0.03722753326919994, 20: 0.0, 21: 0.0, 22: 0.0, 23: 0.008013468013468012, 24: 0.0035774410774410776, 25: 0.006999859708193041, 26: 0.0, 27: 0.03800605258938592, 28: 0.00371031746031746, 29: 0.004834656084656085, 30: 0.018674242424242423, 31: 0.13905172759339426, 32: 0.12415083373416706, 33: 0.2726367845117845}\n"
     ]
    }
   ],
   "source": [
    "## when you have a lot of nodes, it can be very expensive to compute \n",
    "## you can use k to approximate\n",
    "btwnCent = nx.betweenness_centrality(G,normalized=True,endpoints=False,k = 15)  ## it is approximated using 15 nodes\n",
    "print('Normalized between centrality is: {}'.format(btwnCent))  "
   ]
  },
  {
   "cell_type": "markdown",
   "metadata": {},
   "source": [
    "Betweeness Centrality - Subsets"
   ]
  },
  {
   "cell_type": "code",
   "execution_count": 27,
   "metadata": {},
   "outputs": [
    {
     "data": {
      "text/plain": [
       "[(33, 1.1714285714285713),\n",
       " (32, 0.8285714285714285),\n",
       " (0, 0.5),\n",
       " (5, 0.5),\n",
       " (6, 0.5)]"
      ]
     },
     "execution_count": 27,
     "metadata": {},
     "output_type": "execute_result"
    }
   ],
   "source": [
    "## some times we just need to find the nodes that is import between two groups \n",
    "## we will use subset \n",
    "betnCent_subset = nx.betweenness_centrality_subset(G = G,sources=list(G.nodes())[:2],targets=list(G.nodes())[15:20])\n",
    "sorted(betnCent_subset.items(),key=operator.itemgetter(1),reverse=True)[:5]"
   ]
  },
  {
   "cell_type": "markdown",
   "metadata": {},
   "source": [
    "Same betweeness defination can also be applied to edges "
   ]
  },
  {
   "cell_type": "code",
   "execution_count": 30,
   "metadata": {},
   "outputs": [
    {
     "data": {
      "text/plain": [
       "[((0, 31), 0.1272599949070537),\n",
       " ((0, 6), 0.07813428401663695),\n",
       " ((0, 5), 0.07813428401663694),\n",
       " ((0, 2), 0.0777876807288572),\n",
       " ((0, 8), 0.07423959482783014)]"
      ]
     },
     "execution_count": 30,
     "metadata": {},
     "output_type": "execute_result"
    }
   ],
   "source": [
    "btwnCent_edge = nx.edge_betweenness_centrality(G,normalized=True)\n",
    "sorted(btwnCent_edge.items(),key=operator.itemgetter(1),reverse=True)[:5]"
   ]
  },
  {
   "cell_type": "code",
   "execution_count": 31,
   "metadata": {},
   "outputs": [
    {
     "data": {
      "text/plain": [
       "[((1, 19), 0.7),\n",
       " ((0, 19), 0.6428571428571428),\n",
       " ((15, 33), 0.5857142857142856),\n",
       " ((18, 33), 0.5857142857142856),\n",
       " ((0, 1), 0.5)]"
      ]
     },
     "execution_count": 31,
     "metadata": {},
     "output_type": "execute_result"
    }
   ],
   "source": [
    "## looking at specific subsets \n",
    "btwnCent_edge_subset = nx.edge_betweenness_centrality_subset(G = G,sources=list(G.nodes())[:2],targets=list(G.nodes())[15:20])\n",
    "sorted(btwnCent_edge_subset.items(),key=operator.itemgetter(1),reverse=True)[:5]"
   ]
  },
  {
   "cell_type": "markdown",
   "metadata": {},
   "source": [
    "### PageRank\n",
    "\n",
    "- PageRank assigns a score of importance to each node. Important nodes are those with many <b>in-links</b> from important pages.\n",
    "- A nodes' PageRank depends on the PageRank of other nodes.\n"
   ]
  },
  {
   "cell_type": "code",
   "execution_count": 33,
   "metadata": {},
   "outputs": [
    {
     "data": {
      "text/plain": [
       "0.09456117898156402"
      ]
     },
     "execution_count": 33,
     "metadata": {},
     "output_type": "execute_result"
    }
   ],
   "source": [
    "parkCent = nx.pagerank(G,alpha=0.8)  ## calculate pagerank with damping \n",
    "parkCent[0]"
   ]
  },
  {
   "cell_type": "markdown",
   "metadata": {},
   "source": [
    "### Hubs and Authorities"
   ]
  },
  {
   "cell_type": "markdown",
   "metadata": {},
   "source": [
    "- Assign each node an authority and hub score of 1. \n",
    "- Apply the Authority Update Rule: each node’s <b>authority</b> score is the sum of <b>hub scores</b> of each node that points to it. \n",
    "- Apply the Hub Update Rule: each node’s <b>hub score</b> is the sum of <b>authority scores</b> of each node that it points to. \n",
    "- Nomalize Authority and Hub scores\n",
    "- Repeat � times. "
   ]
  },
  {
   "cell_type": "code",
   "execution_count": 35,
   "metadata": {},
   "outputs": [],
   "source": [
    "h,a = nx.hits(G)"
   ]
  },
  {
   "cell_type": "code",
   "execution_count": 40,
   "metadata": {},
   "outputs": [
    {
     "name": "stdout",
     "output_type": "stream",
     "text": [
      "hub score for node 1: 0.053427231205172614\n",
      "authority score for node 1: 0.05342723122870397\n"
     ]
    }
   ],
   "source": [
    "node = 1\n",
    "print('hub score for node {}: {}'.format(node,h[node]))\n",
    "print('authority score for node {}: {}'.format(node,a[node]))"
   ]
  },
  {
   "cell_type": "code",
   "execution_count": null,
   "metadata": {},
   "outputs": [],
   "source": []
  }
 ],
 "metadata": {
  "kernelspec": {
   "display_name": "Python 3",
   "language": "python",
   "name": "python3"
  },
  "language_info": {
   "codemirror_mode": {
    "name": "ipython",
    "version": 3
   },
   "file_extension": ".py",
   "mimetype": "text/x-python",
   "name": "python",
   "nbconvert_exporter": "python",
   "pygments_lexer": "ipython3",
   "version": "3.6.6"
  }
 },
 "nbformat": 4,
 "nbformat_minor": 2
}
